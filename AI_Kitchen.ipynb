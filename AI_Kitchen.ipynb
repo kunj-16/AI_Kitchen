{
  "nbformat": 4,
  "nbformat_minor": 0,
  "metadata": {
    "colab": {
      "provenance": []
    },
    "kernelspec": {
      "name": "python3",
      "display_name": "Python 3"
    },
    "language_info": {
      "name": "python"
    }
  },
  "cells": [
    {
      "cell_type": "code",
      "source": [
        "!pip install tensorflow opencv-python-headless twilio pandas\n"
      ],
      "metadata": {
        "colab": {
          "base_uri": "https://localhost:8080/"
        },
        "id": "OSJO2goh28wd",
        "outputId": "688eca45-c591-4cbd-f101-cff7554fdc7b"
      },
      "execution_count": 1,
      "outputs": [
        {
          "output_type": "stream",
          "name": "stdout",
          "text": [
            "Requirement already satisfied: tensorflow in /usr/local/lib/python3.10/dist-packages (2.15.0)\n",
            "Requirement already satisfied: opencv-python-headless in /usr/local/lib/python3.10/dist-packages (4.10.0.84)\n",
            "Collecting twilio\n",
            "  Downloading twilio-9.2.3-py2.py3-none-any.whl (1.8 MB)\n",
            "\u001b[2K     \u001b[90m━━━━━━━━━━━━━━━━━━━━━━━━━━━━━━━━━━━━━━━━\u001b[0m \u001b[32m1.8/1.8 MB\u001b[0m \u001b[31m6.7 MB/s\u001b[0m eta \u001b[36m0:00:00\u001b[0m\n",
            "\u001b[?25hRequirement already satisfied: pandas in /usr/local/lib/python3.10/dist-packages (2.0.3)\n",
            "Requirement already satisfied: absl-py>=1.0.0 in /usr/local/lib/python3.10/dist-packages (from tensorflow) (1.4.0)\n",
            "Requirement already satisfied: astunparse>=1.6.0 in /usr/local/lib/python3.10/dist-packages (from tensorflow) (1.6.3)\n",
            "Requirement already satisfied: flatbuffers>=23.5.26 in /usr/local/lib/python3.10/dist-packages (from tensorflow) (24.3.25)\n",
            "Requirement already satisfied: gast!=0.5.0,!=0.5.1,!=0.5.2,>=0.2.1 in /usr/local/lib/python3.10/dist-packages (from tensorflow) (0.6.0)\n",
            "Requirement already satisfied: google-pasta>=0.1.1 in /usr/local/lib/python3.10/dist-packages (from tensorflow) (0.2.0)\n",
            "Requirement already satisfied: h5py>=2.9.0 in /usr/local/lib/python3.10/dist-packages (from tensorflow) (3.9.0)\n",
            "Requirement already satisfied: libclang>=13.0.0 in /usr/local/lib/python3.10/dist-packages (from tensorflow) (18.1.1)\n",
            "Requirement already satisfied: ml-dtypes~=0.2.0 in /usr/local/lib/python3.10/dist-packages (from tensorflow) (0.2.0)\n",
            "Requirement already satisfied: numpy<2.0.0,>=1.23.5 in /usr/local/lib/python3.10/dist-packages (from tensorflow) (1.25.2)\n",
            "Requirement already satisfied: opt-einsum>=2.3.2 in /usr/local/lib/python3.10/dist-packages (from tensorflow) (3.3.0)\n",
            "Requirement already satisfied: packaging in /usr/local/lib/python3.10/dist-packages (from tensorflow) (24.1)\n",
            "Requirement already satisfied: protobuf!=4.21.0,!=4.21.1,!=4.21.2,!=4.21.3,!=4.21.4,!=4.21.5,<5.0.0dev,>=3.20.3 in /usr/local/lib/python3.10/dist-packages (from tensorflow) (3.20.3)\n",
            "Requirement already satisfied: setuptools in /usr/local/lib/python3.10/dist-packages (from tensorflow) (67.7.2)\n",
            "Requirement already satisfied: six>=1.12.0 in /usr/local/lib/python3.10/dist-packages (from tensorflow) (1.16.0)\n",
            "Requirement already satisfied: termcolor>=1.1.0 in /usr/local/lib/python3.10/dist-packages (from tensorflow) (2.4.0)\n",
            "Requirement already satisfied: typing-extensions>=3.6.6 in /usr/local/lib/python3.10/dist-packages (from tensorflow) (4.12.2)\n",
            "Requirement already satisfied: wrapt<1.15,>=1.11.0 in /usr/local/lib/python3.10/dist-packages (from tensorflow) (1.14.1)\n",
            "Requirement already satisfied: tensorflow-io-gcs-filesystem>=0.23.1 in /usr/local/lib/python3.10/dist-packages (from tensorflow) (0.37.0)\n",
            "Requirement already satisfied: grpcio<2.0,>=1.24.3 in /usr/local/lib/python3.10/dist-packages (from tensorflow) (1.64.1)\n",
            "Requirement already satisfied: tensorboard<2.16,>=2.15 in /usr/local/lib/python3.10/dist-packages (from tensorflow) (2.15.2)\n",
            "Requirement already satisfied: tensorflow-estimator<2.16,>=2.15.0 in /usr/local/lib/python3.10/dist-packages (from tensorflow) (2.15.0)\n",
            "Requirement already satisfied: keras<2.16,>=2.15.0 in /usr/local/lib/python3.10/dist-packages (from tensorflow) (2.15.0)\n",
            "Requirement already satisfied: requests>=2.0.0 in /usr/local/lib/python3.10/dist-packages (from twilio) (2.31.0)\n",
            "Requirement already satisfied: PyJWT<3.0.0,>=2.0.0 in /usr/lib/python3/dist-packages (from twilio) (2.3.0)\n",
            "Requirement already satisfied: aiohttp>=3.8.4 in /usr/local/lib/python3.10/dist-packages (from twilio) (3.9.5)\n",
            "Collecting aiohttp-retry>=2.8.3 (from twilio)\n",
            "  Downloading aiohttp_retry-2.8.3-py3-none-any.whl (9.8 kB)\n",
            "Requirement already satisfied: python-dateutil>=2.8.2 in /usr/local/lib/python3.10/dist-packages (from pandas) (2.8.2)\n",
            "Requirement already satisfied: pytz>=2020.1 in /usr/local/lib/python3.10/dist-packages (from pandas) (2023.4)\n",
            "Requirement already satisfied: tzdata>=2022.1 in /usr/local/lib/python3.10/dist-packages (from pandas) (2024.1)\n",
            "Requirement already satisfied: aiosignal>=1.1.2 in /usr/local/lib/python3.10/dist-packages (from aiohttp>=3.8.4->twilio) (1.3.1)\n",
            "Requirement already satisfied: attrs>=17.3.0 in /usr/local/lib/python3.10/dist-packages (from aiohttp>=3.8.4->twilio) (23.2.0)\n",
            "Requirement already satisfied: frozenlist>=1.1.1 in /usr/local/lib/python3.10/dist-packages (from aiohttp>=3.8.4->twilio) (1.4.1)\n",
            "Requirement already satisfied: multidict<7.0,>=4.5 in /usr/local/lib/python3.10/dist-packages (from aiohttp>=3.8.4->twilio) (6.0.5)\n",
            "Requirement already satisfied: yarl<2.0,>=1.0 in /usr/local/lib/python3.10/dist-packages (from aiohttp>=3.8.4->twilio) (1.9.4)\n",
            "Requirement already satisfied: async-timeout<5.0,>=4.0 in /usr/local/lib/python3.10/dist-packages (from aiohttp>=3.8.4->twilio) (4.0.3)\n",
            "Requirement already satisfied: wheel<1.0,>=0.23.0 in /usr/local/lib/python3.10/dist-packages (from astunparse>=1.6.0->tensorflow) (0.43.0)\n",
            "Requirement already satisfied: charset-normalizer<4,>=2 in /usr/local/lib/python3.10/dist-packages (from requests>=2.0.0->twilio) (3.3.2)\n",
            "Requirement already satisfied: idna<4,>=2.5 in /usr/local/lib/python3.10/dist-packages (from requests>=2.0.0->twilio) (3.7)\n",
            "Requirement already satisfied: urllib3<3,>=1.21.1 in /usr/local/lib/python3.10/dist-packages (from requests>=2.0.0->twilio) (2.0.7)\n",
            "Requirement already satisfied: certifi>=2017.4.17 in /usr/local/lib/python3.10/dist-packages (from requests>=2.0.0->twilio) (2024.6.2)\n",
            "Requirement already satisfied: google-auth<3,>=1.6.3 in /usr/local/lib/python3.10/dist-packages (from tensorboard<2.16,>=2.15->tensorflow) (2.27.0)\n",
            "Requirement already satisfied: google-auth-oauthlib<2,>=0.5 in /usr/local/lib/python3.10/dist-packages (from tensorboard<2.16,>=2.15->tensorflow) (1.2.0)\n",
            "Requirement already satisfied: markdown>=2.6.8 in /usr/local/lib/python3.10/dist-packages (from tensorboard<2.16,>=2.15->tensorflow) (3.6)\n",
            "Requirement already satisfied: tensorboard-data-server<0.8.0,>=0.7.0 in /usr/local/lib/python3.10/dist-packages (from tensorboard<2.16,>=2.15->tensorflow) (0.7.2)\n",
            "Requirement already satisfied: werkzeug>=1.0.1 in /usr/local/lib/python3.10/dist-packages (from tensorboard<2.16,>=2.15->tensorflow) (3.0.3)\n",
            "Requirement already satisfied: cachetools<6.0,>=2.0.0 in /usr/local/lib/python3.10/dist-packages (from google-auth<3,>=1.6.3->tensorboard<2.16,>=2.15->tensorflow) (5.3.3)\n",
            "Requirement already satisfied: pyasn1-modules>=0.2.1 in /usr/local/lib/python3.10/dist-packages (from google-auth<3,>=1.6.3->tensorboard<2.16,>=2.15->tensorflow) (0.4.0)\n",
            "Requirement already satisfied: rsa<5,>=3.1.4 in /usr/local/lib/python3.10/dist-packages (from google-auth<3,>=1.6.3->tensorboard<2.16,>=2.15->tensorflow) (4.9)\n",
            "Requirement already satisfied: requests-oauthlib>=0.7.0 in /usr/local/lib/python3.10/dist-packages (from google-auth-oauthlib<2,>=0.5->tensorboard<2.16,>=2.15->tensorflow) (1.3.1)\n",
            "Requirement already satisfied: MarkupSafe>=2.1.1 in /usr/local/lib/python3.10/dist-packages (from werkzeug>=1.0.1->tensorboard<2.16,>=2.15->tensorflow) (2.1.5)\n",
            "Requirement already satisfied: pyasn1<0.7.0,>=0.4.6 in /usr/local/lib/python3.10/dist-packages (from pyasn1-modules>=0.2.1->google-auth<3,>=1.6.3->tensorboard<2.16,>=2.15->tensorflow) (0.6.0)\n",
            "Requirement already satisfied: oauthlib>=3.0.0 in /usr/local/lib/python3.10/dist-packages (from requests-oauthlib>=0.7.0->google-auth-oauthlib<2,>=0.5->tensorboard<2.16,>=2.15->tensorflow) (3.2.2)\n",
            "Installing collected packages: aiohttp-retry, twilio\n",
            "Successfully installed aiohttp-retry-2.8.3 twilio-9.2.3\n"
          ]
        }
      ]
    },
    {
      "cell_type": "markdown",
      "source": [
        "Load and Preprocess Data:"
      ],
      "metadata": {
        "id": "xnWbET9w50WC"
      }
    },
    {
      "cell_type": "code",
      "source": [
        "import pandas as pd\n",
        "def load_data(recipes_dataset):\n",
        "    return pd.read_csv('recipes_dataset.csv')\n",
        "\n",
        "def preprocess_data(data):\n",
        "    data_numeric = data.iloc[:, 1:]\n",
        "    X = data.iloc[:, :-1].values\n",
        "    y = data.iloc[:, -1].values\n",
        "    return X, y\n",
        "\n",
        "data = load_data('recipes_dataset.csv')\n",
        "X, y = preprocess_data(data)\n"
      ],
      "metadata": {
        "id": "OZj_cqqS52vJ"
      },
      "execution_count": 1,
      "outputs": []
    },
    {
      "cell_type": "markdown",
      "source": [
        "Build and Train the Model:"
      ],
      "metadata": {
        "id": "Srp_OSuq54aF"
      }
    },
    {
      "cell_type": "code",
      "source": [
        "import numpy as np\n",
        "import tensorflow as tf\n",
        "from tensorflow.keras.models import Sequential\n",
        "from tensorflow.keras.layers import Dense, LSTM\n",
        "from sklearn.model_selection import train_test_split\n",
        "\n",
        "X_train = np.array([[1], [2], [3], [4]])\n",
        "y_train = np.array([5, 6, 7, 8])\n",
        "\n",
        "X_train = X_train.reshape(X_train.shape[0], 1, 1)\n",
        "\n",
        "X_train = tf.convert_to_tensor(X_train, dtype=tf.float32)\n",
        "y_train = tf.convert_to_tensor(y_train, dtype=tf.float32)\n",
        "\n",
        "\n",
        "model = Sequential()\n",
        "model.add(LSTM(128, input_shape=(X_train.shape[1], X_train.shape[2]), return_sequences=True))\n",
        "model.add(LSTM(64))\n",
        "model.add(Dense(1, activation='linear'))\n",
        "\n",
        "model.compile(optimizer='adam', loss='mean_squared_error')\n",
        "\n",
        "\n",
        "history = model.fit(X_train, y_train, epochs=50, batch_size=32)\n",
        "\n",
        "model.save('ai_kitchen_model.h5')\n"
      ],
      "metadata": {
        "colab": {
          "base_uri": "https://localhost:8080/"
        },
        "id": "Z_0ZzUYK56-Z",
        "outputId": "57cdaa3e-bedb-4c1f-9453-726471dc0010"
      },
      "execution_count": 2,
      "outputs": [
        {
          "output_type": "stream",
          "name": "stdout",
          "text": [
            "Epoch 1/50\n",
            "1/1 [==============================] - 5s 5s/step - loss: 43.6231\n",
            "Epoch 2/50\n",
            "1/1 [==============================] - 0s 12ms/step - loss: 43.3763\n",
            "Epoch 3/50\n",
            "1/1 [==============================] - 0s 11ms/step - loss: 43.1309\n",
            "Epoch 4/50\n",
            "1/1 [==============================] - 0s 12ms/step - loss: 42.8854\n",
            "Epoch 5/50\n",
            "1/1 [==============================] - 0s 12ms/step - loss: 42.6385\n",
            "Epoch 6/50\n",
            "1/1 [==============================] - 0s 13ms/step - loss: 42.3885\n",
            "Epoch 7/50\n",
            "1/1 [==============================] - 0s 10ms/step - loss: 42.1338\n",
            "Epoch 8/50\n",
            "1/1 [==============================] - 0s 10ms/step - loss: 41.8731\n",
            "Epoch 9/50\n",
            "1/1 [==============================] - 0s 12ms/step - loss: 41.6047\n",
            "Epoch 10/50\n",
            "1/1 [==============================] - 0s 12ms/step - loss: 41.3273\n",
            "Epoch 11/50\n",
            "1/1 [==============================] - 0s 10ms/step - loss: 41.0395\n",
            "Epoch 12/50\n",
            "1/1 [==============================] - 0s 14ms/step - loss: 40.7397\n",
            "Epoch 13/50\n",
            "1/1 [==============================] - 0s 13ms/step - loss: 40.4266\n",
            "Epoch 14/50\n",
            "1/1 [==============================] - 0s 13ms/step - loss: 40.0986\n",
            "Epoch 15/50\n",
            "1/1 [==============================] - 0s 15ms/step - loss: 39.7544\n",
            "Epoch 16/50\n",
            "1/1 [==============================] - 0s 14ms/step - loss: 39.3925\n",
            "Epoch 17/50\n",
            "1/1 [==============================] - 0s 15ms/step - loss: 39.0115\n",
            "Epoch 18/50\n",
            "1/1 [==============================] - 0s 15ms/step - loss: 38.6100\n",
            "Epoch 19/50\n",
            "1/1 [==============================] - 0s 16ms/step - loss: 38.1867\n",
            "Epoch 20/50\n",
            "1/1 [==============================] - 0s 17ms/step - loss: 37.7401\n",
            "Epoch 21/50\n",
            "1/1 [==============================] - 0s 19ms/step - loss: 37.2689\n",
            "Epoch 22/50\n",
            "1/1 [==============================] - 0s 15ms/step - loss: 36.7718\n",
            "Epoch 23/50\n",
            "1/1 [==============================] - 0s 14ms/step - loss: 36.2474\n",
            "Epoch 24/50\n",
            "1/1 [==============================] - 0s 15ms/step - loss: 35.6944\n",
            "Epoch 25/50\n",
            "1/1 [==============================] - 0s 15ms/step - loss: 35.1116\n",
            "Epoch 26/50\n",
            "1/1 [==============================] - 0s 14ms/step - loss: 34.4978\n",
            "Epoch 27/50\n",
            "1/1 [==============================] - 0s 15ms/step - loss: 33.8519\n",
            "Epoch 28/50\n",
            "1/1 [==============================] - 0s 14ms/step - loss: 33.1729\n",
            "Epoch 29/50\n",
            "1/1 [==============================] - 0s 18ms/step - loss: 32.4600\n",
            "Epoch 30/50\n",
            "1/1 [==============================] - 0s 16ms/step - loss: 31.7126\n",
            "Epoch 31/50\n",
            "1/1 [==============================] - 0s 14ms/step - loss: 30.9302\n",
            "Epoch 32/50\n",
            "1/1 [==============================] - 0s 19ms/step - loss: 30.1128\n",
            "Epoch 33/50\n",
            "1/1 [==============================] - 0s 13ms/step - loss: 29.2602\n",
            "Epoch 34/50\n",
            "1/1 [==============================] - 0s 21ms/step - loss: 28.3732\n",
            "Epoch 35/50\n",
            "1/1 [==============================] - 0s 16ms/step - loss: 27.4523\n",
            "Epoch 36/50\n",
            "1/1 [==============================] - 0s 13ms/step - loss: 26.4990\n",
            "Epoch 37/50\n",
            "1/1 [==============================] - 0s 15ms/step - loss: 25.5147\n",
            "Epoch 38/50\n",
            "1/1 [==============================] - 0s 13ms/step - loss: 24.5015\n",
            "Epoch 39/50\n",
            "1/1 [==============================] - 0s 14ms/step - loss: 23.4620\n",
            "Epoch 40/50\n",
            "1/1 [==============================] - 0s 13ms/step - loss: 22.3993\n",
            "Epoch 41/50\n",
            "1/1 [==============================] - 0s 13ms/step - loss: 21.3167\n",
            "Epoch 42/50\n",
            "1/1 [==============================] - 0s 17ms/step - loss: 20.2182\n",
            "Epoch 43/50\n",
            "1/1 [==============================] - 0s 16ms/step - loss: 19.1082\n",
            "Epoch 44/50\n",
            "1/1 [==============================] - 0s 14ms/step - loss: 17.9915\n",
            "Epoch 45/50\n",
            "1/1 [==============================] - 0s 13ms/step - loss: 16.8732\n",
            "Epoch 46/50\n",
            "1/1 [==============================] - 0s 14ms/step - loss: 15.7586\n",
            "Epoch 47/50\n",
            "1/1 [==============================] - 0s 16ms/step - loss: 14.6534\n",
            "Epoch 48/50\n",
            "1/1 [==============================] - 0s 15ms/step - loss: 13.5634\n",
            "Epoch 49/50\n",
            "1/1 [==============================] - 0s 13ms/step - loss: 12.4942\n",
            "Epoch 50/50\n",
            "1/1 [==============================] - 0s 15ms/step - loss: 11.4517\n"
          ]
        },
        {
          "output_type": "stream",
          "name": "stderr",
          "text": [
            "/usr/local/lib/python3.10/dist-packages/keras/src/engine/training.py:3103: UserWarning: You are saving your model as an HDF5 file via `model.save()`. This file format is considered legacy. We recommend using instead the native Keras format, e.g. `model.save('my_model.keras')`.\n",
            "  saving_api.save_model(\n"
          ]
        }
      ]
    },
    {
      "cell_type": "markdown",
      "source": [
        " Utensil Detection and Management\n",
        "Setup Utensil Detection:"
      ],
      "metadata": {
        "id": "kOrVxNey59KI"
      }
    },
    {
      "cell_type": "code",
      "source": [
        "import cv2\n",
        "import numpy as np\n",
        "\n",
        "model = cv2.dnn.readNet('yolov3.weights', 'yolov3.cfg')\n",
        "layer_names = model.getLayerNames()\n",
        "output_layers_indices = model.getUnconnectedOutLayers()\n",
        "\n",
        "output_layers = [layer_names[i - 1] for i in output_layers_indices.flatten()]\n",
        "\n",
        "with open('coco.names', 'r') as f:\n",
        "    classes = [line.strip() for line in f.readlines()]\n",
        "\n",
        "utensil_mapping = {\n",
        "    47: \"cup\",\n",
        "    48: \"fork\",\n",
        "    49: \"knife\",\n",
        "    50: \"spoon\",\n",
        "    51: \"bowl\"\n",
        "}\n",
        "def detect_utensils(image):\n",
        "    height, width, channels = image.shape\n",
        "    blob = cv2.dnn.blobFromImage(image, 0.00392, (416, 416), (0, 0, 0), True, crop=False)\n",
        "    model.setInput(blob)\n",
        "    outs = model.forward(output_layers)\n",
        "\n",
        "\n",
        "    utensils_detected = []\n",
        "    class_ids = []\n",
        "    confidences = []\n",
        "    boxes = []\n",
        "    for out in outs:\n",
        "        for detection in out:\n",
        "            scores = detection[5:]\n",
        "            class_id = np.argmax(scores)\n",
        "            confidence = scores[class_id]\n",
        "            if confidence > 0.5:\n",
        "                center_x = int(detection[0] * width)\n",
        "                center_y = int(detection[1] * height)\n",
        "                w = int(detection[2] * width)\n",
        "                h = int(detection[3] * height)\n",
        "                x = int(center_x - w / 2)\n",
        "                y = int(center_y - h / 2)\n",
        "                boxes.append([x, y, w, h])\n",
        "                confidences.append(float(confidence))\n",
        "                class_ids.append(class_id)\n",
        "\n",
        "    indexes = cv2.dnn.NMSBoxes(boxes, confidences, 0.5, 0.4)\n",
        "    for i in range(len(boxes)):\n",
        "        if i in indexes:\n",
        "            class_id = class_ids[i]\n",
        "            print(f\"Detected class ID: {class_id}\")\n",
        "            utensil_name = utensil_mapping.get(class_id, \"Utensil\")\n",
        "            utensils_detected.append((utensil_name, boxes[i]))\n",
        "\n",
        "    return utensils_detected\n",
        "\n",
        "\n",
        "image_path = 'kitchen.jpg'\n",
        "image = cv2.imread(image_path)\n",
        "\n",
        "if image is None:\n",
        "    print(f\"Error: Could not load image from {image_path}. Check the file path and permissions.\")\n",
        "else:\n",
        "    utensils = detect_utensils(image)\n",
        "    print(utensils)\n"
      ],
      "metadata": {
        "colab": {
          "base_uri": "https://localhost:8080/"
        },
        "id": "CUzfPQ-m6Avf",
        "outputId": "7d54ba72-89c8-4b45-c199-b108ebf1acf7"
      },
      "execution_count": 10,
      "outputs": [
        {
          "output_type": "stream",
          "name": "stdout",
          "text": [
            "[]\n"
          ]
        }
      ]
    },
    {
      "cell_type": "markdown",
      "source": [
        "Raw Material Management\n",
        "Check Ingredients:"
      ],
      "metadata": {
        "id": "icXmi1t76Fo-"
      }
    },
    {
      "cell_type": "code",
      "source": [
        "import pandas as pd\n",
        "inventory = pd.read_csv('inventory.csv')\n",
        "\n",
        "def check_ingredients(recipe_ingredients):\n",
        "    missing_ingredients = []\n",
        "    for ingredient, quantity in recipe_ingredients.items():\n",
        "        if ingredient in inventory['ingredient'].values:\n",
        "            available_quantity = inventory[inventory['ingredient'] == ingredient]['quantity'].values[0]\n",
        "            if available_quantity < quantity:\n",
        "                missing_ingredients.append(ingredient)\n",
        "        else:\n",
        "            missing_ingredients.append(ingredient)\n",
        "    return missing_ingredients\n",
        "\n",
        "recipe_ingredients = {'tomato': 2, 'onion': 1, 'chicken': 1}\n",
        "missing = check_ingredients(recipe_ingredients)\n",
        "print(f'Missing ingredients: {missing}')\n"
      ],
      "metadata": {
        "colab": {
          "base_uri": "https://localhost:8080/"
        },
        "id": "7hsVSUUg6CjU",
        "outputId": "17cfbfc3-6864-4ef3-ef00-39c8080823e5"
      },
      "execution_count": 11,
      "outputs": [
        {
          "output_type": "stream",
          "name": "stdout",
          "text": [
            "Missing ingredients: ['tomato']\n"
          ]
        }
      ]
    },
    {
      "cell_type": "markdown",
      "source": [
        "Send Notifications:"
      ],
      "metadata": {
        "id": "NeN0G9Zi6IA1"
      }
    },
    {
      "cell_type": "code",
      "source": [
        "from twilio.rest import Client\n",
        "\n",
        "account_sid = \"AC74514e08dc2a430808942e96bb562fc5\"\n",
        "auth_token = \"3646036d7ad8c6f2b0cbbd51d99b906b\"\n",
        "\n",
        "client = Client(account_sid, auth_token)\n",
        "\n",
        "def send_notification(message, to_phone_number):\n",
        "  message = client.messages.create(\n",
        "        to=\"+919044029367\",\n",
        "        from_=\"+919044029367\",\n",
        "        body=message\n",
        "    )\n",
        "\n",
        "\n",
        "missing_ingredients_message = \"You are missing the following ingredients: \" + \", \".join(missing)\n",
        "send_notification(missing_ingredients_message, \"+919044029367\")\n"
      ],
      "metadata": {
        "colab": {
          "base_uri": "https://localhost:8080/",
          "height": 321
        },
        "id": "jJNmctXr6LX2",
        "outputId": "b476bc00-4a87-4e4c-acd5-2087179ffcb4"
      },
      "execution_count": 58,
      "outputs": [
        {
          "output_type": "error",
          "ename": "TwilioRestException",
          "evalue": "HTTP 400 error: Unable to create record: Invalid 'To' Phone Number: +91904402XXXX",
          "traceback": [
            "\u001b[0;31m---------------------------------------------------------------------------\u001b[0m",
            "\u001b[0;31mTwilioRestException\u001b[0m                       Traceback (most recent call last)",
            "\u001b[0;32m<ipython-input-58-a041889589b9>\u001b[0m in \u001b[0;36m<cell line: 20>\u001b[0;34m()\u001b[0m\n\u001b[1;32m     18\u001b[0m \u001b[0;31m# Example usage\u001b[0m\u001b[0;34m\u001b[0m\u001b[0;34m\u001b[0m\u001b[0m\n\u001b[1;32m     19\u001b[0m \u001b[0mmissing_ingredients_message\u001b[0m \u001b[0;34m=\u001b[0m \u001b[0;34m\"You are missing the following ingredients: \"\u001b[0m \u001b[0;34m+\u001b[0m \u001b[0;34m\", \"\u001b[0m\u001b[0;34m.\u001b[0m\u001b[0mjoin\u001b[0m\u001b[0;34m(\u001b[0m\u001b[0mmissing\u001b[0m\u001b[0;34m)\u001b[0m\u001b[0;34m\u001b[0m\u001b[0;34m\u001b[0m\u001b[0m\n\u001b[0;32m---> 20\u001b[0;31m \u001b[0msend_notification\u001b[0m\u001b[0;34m(\u001b[0m\u001b[0mmissing_ingredients_message\u001b[0m\u001b[0;34m,\u001b[0m \u001b[0;34m\"+919044029367\"\u001b[0m\u001b[0;34m)\u001b[0m\u001b[0;34m\u001b[0m\u001b[0;34m\u001b[0m\u001b[0m\n\u001b[0m",
            "\u001b[0;32m<ipython-input-58-a041889589b9>\u001b[0m in \u001b[0;36msend_notification\u001b[0;34m(message, to_phone_number)\u001b[0m\n\u001b[1;32m      9\u001b[0m \u001b[0;34m\u001b[0m\u001b[0m\n\u001b[1;32m     10\u001b[0m \u001b[0;32mdef\u001b[0m \u001b[0msend_notification\u001b[0m\u001b[0;34m(\u001b[0m\u001b[0mmessage\u001b[0m\u001b[0;34m,\u001b[0m \u001b[0mto_phone_number\u001b[0m\u001b[0;34m)\u001b[0m\u001b[0;34m:\u001b[0m\u001b[0;34m\u001b[0m\u001b[0;34m\u001b[0m\u001b[0m\n\u001b[0;32m---> 11\u001b[0;31m   message = client.messages.create(\n\u001b[0m\u001b[1;32m     12\u001b[0m         \u001b[0mto\u001b[0m\u001b[0;34m=\u001b[0m\u001b[0;34m\"+919044029367\"\u001b[0m\u001b[0;34m,\u001b[0m\u001b[0;34m\u001b[0m\u001b[0;34m\u001b[0m\u001b[0m\n\u001b[1;32m     13\u001b[0m         \u001b[0mfrom_\u001b[0m\u001b[0;34m=\u001b[0m\u001b[0;34m\"+919044029367\"\u001b[0m\u001b[0;34m,\u001b[0m\u001b[0;34m\u001b[0m\u001b[0;34m\u001b[0m\u001b[0m\n",
            "\u001b[0;32m/usr/local/lib/python3.10/dist-packages/twilio/rest/api/v2010/account/message/__init__.py\u001b[0m in \u001b[0;36mcreate\u001b[0;34m(self, to, status_callback, application_sid, max_price, provide_feedback, attempt, validity_period, force_delivery, content_retention, address_retention, smart_encoded, persistent_action, shorten_urls, schedule_type, send_at, send_as_mms, content_variables, risk_check, from_, messaging_service_sid, body, media_url, content_sid)\u001b[0m\n\u001b[1;32m    563\u001b[0m         \u001b[0mheaders\u001b[0m \u001b[0;34m=\u001b[0m \u001b[0mvalues\u001b[0m\u001b[0;34m.\u001b[0m\u001b[0mof\u001b[0m\u001b[0;34m(\u001b[0m\u001b[0;34m{\u001b[0m\u001b[0;34m\"Content-Type\"\u001b[0m\u001b[0;34m:\u001b[0m \u001b[0;34m\"application/x-www-form-urlencoded\"\u001b[0m\u001b[0;34m}\u001b[0m\u001b[0;34m)\u001b[0m\u001b[0;34m\u001b[0m\u001b[0;34m\u001b[0m\u001b[0m\n\u001b[1;32m    564\u001b[0m \u001b[0;34m\u001b[0m\u001b[0m\n\u001b[0;32m--> 565\u001b[0;31m         payload = self._version.create(\n\u001b[0m\u001b[1;32m    566\u001b[0m             \u001b[0mmethod\u001b[0m\u001b[0;34m=\u001b[0m\u001b[0;34m\"POST\"\u001b[0m\u001b[0;34m,\u001b[0m \u001b[0muri\u001b[0m\u001b[0;34m=\u001b[0m\u001b[0mself\u001b[0m\u001b[0;34m.\u001b[0m\u001b[0m_uri\u001b[0m\u001b[0;34m,\u001b[0m \u001b[0mdata\u001b[0m\u001b[0;34m=\u001b[0m\u001b[0mdata\u001b[0m\u001b[0;34m,\u001b[0m \u001b[0mheaders\u001b[0m\u001b[0;34m=\u001b[0m\u001b[0mheaders\u001b[0m\u001b[0;34m\u001b[0m\u001b[0;34m\u001b[0m\u001b[0m\n\u001b[1;32m    567\u001b[0m         )\n",
            "\u001b[0;32m/usr/local/lib/python3.10/dist-packages/twilio/base/version.py\u001b[0m in \u001b[0;36mcreate\u001b[0;34m(self, method, uri, params, data, headers, auth, timeout, allow_redirects)\u001b[0m\n\u001b[1;32m    463\u001b[0m         )\n\u001b[1;32m    464\u001b[0m \u001b[0;34m\u001b[0m\u001b[0m\n\u001b[0;32m--> 465\u001b[0;31m         \u001b[0;32mreturn\u001b[0m \u001b[0mself\u001b[0m\u001b[0;34m.\u001b[0m\u001b[0m_parse_create\u001b[0m\u001b[0;34m(\u001b[0m\u001b[0mmethod\u001b[0m\u001b[0;34m,\u001b[0m \u001b[0muri\u001b[0m\u001b[0;34m,\u001b[0m \u001b[0mresponse\u001b[0m\u001b[0;34m)\u001b[0m\u001b[0;34m\u001b[0m\u001b[0;34m\u001b[0m\u001b[0m\n\u001b[0m\u001b[1;32m    466\u001b[0m \u001b[0;34m\u001b[0m\u001b[0m\n\u001b[1;32m    467\u001b[0m     async def create_async(\n",
            "\u001b[0;32m/usr/local/lib/python3.10/dist-packages/twilio/base/version.py\u001b[0m in \u001b[0;36m_parse_create\u001b[0;34m(self, method, uri, response)\u001b[0m\n\u001b[1;32m    434\u001b[0m         \"\"\"\n\u001b[1;32m    435\u001b[0m         \u001b[0;32mif\u001b[0m \u001b[0mresponse\u001b[0m\u001b[0;34m.\u001b[0m\u001b[0mstatus_code\u001b[0m \u001b[0;34m<\u001b[0m \u001b[0;36m200\u001b[0m \u001b[0;32mor\u001b[0m \u001b[0mresponse\u001b[0m\u001b[0;34m.\u001b[0m\u001b[0mstatus_code\u001b[0m \u001b[0;34m>=\u001b[0m \u001b[0;36m300\u001b[0m\u001b[0;34m:\u001b[0m\u001b[0;34m\u001b[0m\u001b[0;34m\u001b[0m\u001b[0m\n\u001b[0;32m--> 436\u001b[0;31m             \u001b[0;32mraise\u001b[0m \u001b[0mself\u001b[0m\u001b[0;34m.\u001b[0m\u001b[0mexception\u001b[0m\u001b[0;34m(\u001b[0m\u001b[0mmethod\u001b[0m\u001b[0;34m,\u001b[0m \u001b[0muri\u001b[0m\u001b[0;34m,\u001b[0m \u001b[0mresponse\u001b[0m\u001b[0;34m,\u001b[0m \u001b[0;34m\"Unable to create record\"\u001b[0m\u001b[0;34m)\u001b[0m\u001b[0;34m\u001b[0m\u001b[0;34m\u001b[0m\u001b[0m\n\u001b[0m\u001b[1;32m    437\u001b[0m \u001b[0;34m\u001b[0m\u001b[0m\n\u001b[1;32m    438\u001b[0m         \u001b[0;32mreturn\u001b[0m \u001b[0mjson\u001b[0m\u001b[0;34m.\u001b[0m\u001b[0mloads\u001b[0m\u001b[0;34m(\u001b[0m\u001b[0mresponse\u001b[0m\u001b[0;34m.\u001b[0m\u001b[0mtext\u001b[0m\u001b[0;34m)\u001b[0m\u001b[0;34m\u001b[0m\u001b[0;34m\u001b[0m\u001b[0m\n",
            "\u001b[0;31mTwilioRestException\u001b[0m: HTTP 400 error: Unable to create record: Invalid 'To' Phone Number: +91904402XXXX"
          ]
        }
      ]
    }
  ]
}